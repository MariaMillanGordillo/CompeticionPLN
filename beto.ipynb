{
  "cells": [
    {
      "cell_type": "code",
      "source": [
        "# Instala las librerías necesarias\n",
        "!pip install transformers datasets accelerate -q\n",
        "!pip install scikit-learn pandas -q\n",
        "import os\n",
        "os.environ[\"WANDB_DISABLED\"] = \"true\""
      ],
      "metadata": {
        "id": "bZbXEd5fnF2P"
      },
      "execution_count": null,
      "outputs": []
    },
    {
      "cell_type": "code",
      "source": [
        "import pandas as pd\n",
        "\n",
        "df = pd.read_csv(\"FinancES_train_kaggle.csv\", encoding=\"utf-8\")\n",
        "\n",
        "print(df.head())\n",
        "print(\"Tamaño del dataset:\", df.shape)\n",
        "print(df['label'].value_counts())"
      ],
      "metadata": {
        "colab": {
          "base_uri": "https://localhost:8080/"
        },
        "id": "uZGEH2QAoH0s",
        "outputId": "de53b4ef-c8ca-4a3b-980e-205553330bdd"
      },
      "execution_count": null,
      "outputs": [
        {
          "output_type": "stream",
          "name": "stdout",
          "text": [
            "   id                                               text  label\n",
            "0   0  Renfe afronta mañana un nuevo día de paros par...      2\n",
            "1   1       Presupuesto populista con cimientos frágiles      2\n",
            "2   2  Biden no cree que la OPEP+ vaya a ayudar con l...      2\n",
            "3   3  La deuda de las familias cae en 25.000 millone...      0\n",
            "4   4  Bestinver: no hay \"momento más inoportuno\" par...      2\n",
            "Tamaño del dataset: (6359, 3)\n",
            "label\n",
            "2    2935\n",
            "0    2818\n",
            "1     606\n",
            "Name: count, dtype: int64\n"
          ]
        }
      ]
    },
    {
      "cell_type": "code",
      "source": [
        "from sklearn.model_selection import train_test_split\n",
        "\n",
        "train_df, val_df = train_test_split(\n",
        "    df,\n",
        "    test_size=0.2,  # 80% train, 20% val\n",
        "    random_state=42,\n",
        "    stratify=df['label']\n",
        ")\n",
        "\n",
        "print(\"Train size:\", train_df.shape)\n",
        "print(\"Val size:\", val_df.shape)"
      ],
      "metadata": {
        "id": "E1xWQcA6nZ2_",
        "colab": {
          "base_uri": "https://localhost:8080/"
        },
        "outputId": "e81af743-b851-41f3-d5d9-4541fe3422fb"
      },
      "execution_count": null,
      "outputs": [
        {
          "output_type": "stream",
          "name": "stdout",
          "text": [
            "Train size: (5087, 3)\n",
            "Val size: (1272, 3)\n"
          ]
        }
      ]
    },
    {
      "cell_type": "code",
      "source": [
        "from datasets import Dataset\n",
        "\n",
        "train_dataset = Dataset.from_pandas(train_df)\n",
        "val_dataset   = Dataset.from_pandas(val_df)\n",
        "\n",
        "# Observa la primera instancia\n",
        "print(train_dataset[0])"
      ],
      "metadata": {
        "id": "KVL_opjenmn0",
        "colab": {
          "base_uri": "https://localhost:8080/"
        },
        "outputId": "44ce0a51-ff82-480d-ace7-d44ca95830e7"
      },
      "execution_count": null,
      "outputs": [
        {
          "output_type": "stream",
          "name": "stdout",
          "text": [
            "{'id': 5966, 'text': 'La CNMC pone deberes al Gobierno para mejorar el mercado eléctrico', 'label': 0, '__index_level_0__': 5966}\n"
          ]
        }
      ]
    },
    {
      "cell_type": "code",
      "source": [
        "model_checkpoint = \"dccuchile/bert-base-spanish-wwm-uncased\"\n",
        "\n",
        "from transformers import AutoTokenizer, AutoModelForSequenceClassification\n",
        "\n",
        "tokenizer = AutoTokenizer.from_pretrained(model_checkpoint)\n",
        "num_labels = 3\n",
        "\n",
        "model = AutoModelForSequenceClassification.from_pretrained(\n",
        "    model_checkpoint,\n",
        "    num_labels=num_labels\n",
        ")"
      ],
      "metadata": {
        "id": "lg6XNWhZnpTt",
        "colab": {
          "base_uri": "https://localhost:8080/"
        },
        "outputId": "901cbed7-367e-408d-8333-cd5c1b6d1835"
      },
      "execution_count": null,
      "outputs": [
        {
          "output_type": "stream",
          "name": "stderr",
          "text": [
            "Some weights of BertForSequenceClassification were not initialized from the model checkpoint at dccuchile/bert-base-spanish-wwm-uncased and are newly initialized: ['bert.pooler.dense.bias', 'bert.pooler.dense.weight', 'classifier.bias', 'classifier.weight']\n",
            "You should probably TRAIN this model on a down-stream task to be able to use it for predictions and inference.\n"
          ]
        }
      ]
    },
    {
      "cell_type": "code",
      "source": [
        "def tokenize_function(examples):\n",
        "    return tokenizer(\n",
        "        examples[\"text\"],\n",
        "        truncation=True,\n",
        "        padding=\"max_length\",\n",
        "        max_length=128\n",
        "    )\n",
        "\n",
        "train_dataset = train_dataset.map(tokenize_function, batched=True)\n",
        "val_dataset   = val_dataset.map(tokenize_function, batched=True)"
      ],
      "metadata": {
        "id": "6DSw7dCBnrPL",
        "colab": {
          "base_uri": "https://localhost:8080/",
          "height": 81,
          "referenced_widgets": [
            "c7029022334f460da960ca8f18558c5a",
            "e44d55f2c2ba44e99e3b0aee8246617c",
            "376cfd7ad3604cfa9d7df3dfa7d4de04",
            "64877e72662545edafeff61955c72100",
            "2125e75213014d4aa14390107d5a360c",
            "57684b1330914b288029a675e8268278",
            "c5ea6da078a746c39395f2e80adb45e1",
            "c46ad1c8d7d54bd99eb94ac71e3a9f13",
            "b0ff0bc5cda742d9b6ef8af49d0ae1db",
            "e47fbcac8b394256b37c20ea5c90259d",
            "5a861183e86e461e9150823633ec6ac1",
            "c668d7e44f264a3786a08f80326fafb1",
            "820e16cf22634c209efdeb85294ec091",
            "65c6696dd2864949b87364b097c6f1cb",
            "5ac7b1568a8c44448e19396d29cc5417",
            "71c68fbd3d844dfdb321c3d8c465579d",
            "2b2175d87d5043c398963848e2aa2e65",
            "696aa4d66c51438eaac197541f4f9121",
            "6362aeb70b194a9f86652d592fd8339a",
            "538fdb68593c49adaeea866f83509e22",
            "8d1b4ff172a343d1956387ed1fa645de",
            "e0ab9a2ef4a14936bf590cabefcc2dd7"
          ]
        },
        "outputId": "66afbb92-1f8f-40c6-bc03-64a5f41a7fc4"
      },
      "execution_count": null,
      "outputs": [
        {
          "output_type": "display_data",
          "data": {
            "text/plain": [
              "Map:   0%|          | 0/5087 [00:00<?, ? examples/s]"
            ],
            "application/vnd.jupyter.widget-view+json": {
              "version_major": 2,
              "version_minor": 0,
              "model_id": "c7029022334f460da960ca8f18558c5a"
            }
          },
          "metadata": {}
        },
        {
          "output_type": "display_data",
          "data": {
            "text/plain": [
              "Map:   0%|          | 0/1272 [00:00<?, ? examples/s]"
            ],
            "application/vnd.jupyter.widget-view+json": {
              "version_major": 2,
              "version_minor": 0,
              "model_id": "c668d7e44f264a3786a08f80326fafb1"
            }
          },
          "metadata": {}
        }
      ]
    },
    {
      "cell_type": "code",
      "source": [
        "# Retirar columnas no necesarias para el entrenamiento\n",
        "columns_to_remove = ['id', 'text']\n",
        "train_dataset = train_dataset.remove_columns(columns_to_remove)\n",
        "val_dataset   = val_dataset.remove_columns(columns_to_remove)\n",
        "\n",
        "print(train_dataset)\n",
        "print(val_dataset)"
      ],
      "metadata": {
        "id": "sxjDfFmbntl2",
        "colab": {
          "base_uri": "https://localhost:8080/"
        },
        "outputId": "c48842de-a6cf-4627-9284-268136e627c0"
      },
      "execution_count": null,
      "outputs": [
        {
          "output_type": "stream",
          "name": "stdout",
          "text": [
            "Dataset({\n",
            "    features: ['label', '__index_level_0__', 'input_ids', 'token_type_ids', 'attention_mask'],\n",
            "    num_rows: 5087\n",
            "})\n",
            "Dataset({\n",
            "    features: ['label', '__index_level_0__', 'input_ids', 'token_type_ids', 'attention_mask'],\n",
            "    num_rows: 1272\n",
            "})\n"
          ]
        }
      ]
    },
    {
      "cell_type": "code",
      "source": [
        "from transformers import TrainingArguments\n",
        "\n",
        "training_args = TrainingArguments(\n",
        "    output_dir=\"beto-sentiment-checkpoints\", # carpeta de salida\n",
        "    evaluation_strategy=\"epoch\",            # evalúa al final de cada época\n",
        "    save_strategy=\"epoch\",                  # guarda checkpoint al final de cada época\n",
        "    learning_rate=2e-5,\n",
        "    per_device_train_batch_size=16,\n",
        "    per_device_eval_batch_size=16,\n",
        "    num_train_epochs=3,                     # ajusta según necesites\n",
        "    weight_decay=0.01,\n",
        "    logging_steps=50,\n",
        "    load_best_model_at_end=True,\n",
        "    metric_for_best_model=\"f1_macro\"        # nombre de la métrica\n",
        ")\n",
        "\n",
        "import numpy as np\n",
        "from sklearn.metrics import f1_score\n",
        "\n",
        "def compute_metrics(eval_pred):\n",
        "    logits, labels = eval_pred\n",
        "    predictions = np.argmax(logits, axis=-1)\n",
        "    f1_macro = f1_score(labels, predictions, average='macro')\n",
        "    return {\n",
        "        \"f1_macro\": f1_macro\n",
        "    }"
      ],
      "metadata": {
        "id": "uKYD4sAAnzBn",
        "colab": {
          "base_uri": "https://localhost:8080/"
        },
        "outputId": "bd4ad3e8-859f-4cf4-df5d-85612da264ce"
      },
      "execution_count": null,
      "outputs": [
        {
          "output_type": "stream",
          "name": "stderr",
          "text": [
            "/usr/local/lib/python3.11/dist-packages/transformers/training_args.py:1575: FutureWarning: `evaluation_strategy` is deprecated and will be removed in version 4.46 of 🤗 Transformers. Use `eval_strategy` instead\n",
            "  warnings.warn(\n",
            "Using the `WANDB_DISABLED` environment variable is deprecated and will be removed in v5. Use the --report_to flag to control the integrations used for logging result (for instance --report_to none).\n"
          ]
        }
      ]
    },
    {
      "cell_type": "code",
      "source": [
        "from transformers import Trainer\n",
        "\n",
        "trainer = Trainer(\n",
        "    model=model,\n",
        "    args=training_args,\n",
        "    train_dataset=train_dataset,\n",
        "    eval_dataset=val_dataset,\n",
        "    tokenizer=tokenizer,\n",
        "    compute_metrics=compute_metrics\n",
        ")\n",
        "\n",
        "trainer.train()"
      ],
      "metadata": {
        "id": "brL3oRban1PD",
        "colab": {
          "base_uri": "https://localhost:8080/",
          "height": 273
        },
        "outputId": "169b3af6-b8fb-4cee-8028-54ed6b9d50b9"
      },
      "execution_count": null,
      "outputs": [
        {
          "output_type": "stream",
          "name": "stderr",
          "text": [
            "<ipython-input-18-5750c4c5862c>:3: FutureWarning: `tokenizer` is deprecated and will be removed in version 5.0.0 for `Trainer.__init__`. Use `processing_class` instead.\n",
            "  trainer = Trainer(\n"
          ]
        },
        {
          "output_type": "display_data",
          "data": {
            "text/plain": [
              "<IPython.core.display.HTML object>"
            ],
            "text/html": [
              "\n",
              "    <div>\n",
              "      \n",
              "      <progress value='954' max='954' style='width:300px; height:20px; vertical-align: middle;'></progress>\n",
              "      [954/954 06:37, Epoch 3/3]\n",
              "    </div>\n",
              "    <table border=\"1\" class=\"dataframe\">\n",
              "  <thead>\n",
              " <tr style=\"text-align: left;\">\n",
              "      <th>Epoch</th>\n",
              "      <th>Training Loss</th>\n",
              "      <th>Validation Loss</th>\n",
              "      <th>F1 Macro</th>\n",
              "    </tr>\n",
              "  </thead>\n",
              "  <tbody>\n",
              "    <tr>\n",
              "      <td>1</td>\n",
              "      <td>0.604600</td>\n",
              "      <td>0.638425</td>\n",
              "      <td>0.686439</td>\n",
              "    </tr>\n",
              "    <tr>\n",
              "      <td>2</td>\n",
              "      <td>0.461100</td>\n",
              "      <td>0.624257</td>\n",
              "      <td>0.697963</td>\n",
              "    </tr>\n",
              "    <tr>\n",
              "      <td>3</td>\n",
              "      <td>0.330000</td>\n",
              "      <td>0.721502</td>\n",
              "      <td>0.697844</td>\n",
              "    </tr>\n",
              "  </tbody>\n",
              "</table><p>"
            ]
          },
          "metadata": {}
        },
        {
          "output_type": "execute_result",
          "data": {
            "text/plain": [
              "TrainOutput(global_step=954, training_loss=0.48381819765022965, metrics={'train_runtime': 399.0933, 'train_samples_per_second': 38.239, 'train_steps_per_second': 2.39, 'total_flos': 1003843466986752.0, 'train_loss': 0.48381819765022965, 'epoch': 3.0})"
            ]
          },
          "metadata": {},
          "execution_count": 18
        }
      ]
    },
    {
      "cell_type": "code",
      "source": [
        "# Evaluación en el conjunto de validación\n",
        "metrics = trainer.evaluate()\n",
        "print(\"Resultado en validación:\", metrics)\n",
        "print(\"F1 Macro (validación):\", metrics[\"eval_f1_macro\"])"
      ],
      "metadata": {
        "id": "xwQ6m6Znn2pd",
        "colab": {
          "base_uri": "https://localhost:8080/",
          "height": 91
        },
        "outputId": "289e3770-0b59-4b70-8fe4-b4045eb7ac98"
      },
      "execution_count": null,
      "outputs": [
        {
          "output_type": "display_data",
          "data": {
            "text/plain": [
              "<IPython.core.display.HTML object>"
            ],
            "text/html": [
              "\n",
              "    <div>\n",
              "      \n",
              "      <progress value='80' max='80' style='width:300px; height:20px; vertical-align: middle;'></progress>\n",
              "      [80/80 00:09]\n",
              "    </div>\n",
              "    "
            ]
          },
          "metadata": {}
        },
        {
          "output_type": "stream",
          "name": "stdout",
          "text": [
            "Resultado en validación: {'eval_loss': 0.6242566704750061, 'eval_f1_macro': 0.6979632557693467, 'eval_runtime': 9.6193, 'eval_samples_per_second': 132.234, 'eval_steps_per_second': 8.317, 'epoch': 3.0}\n",
            "F1 Macro (validación): 0.6979632557693467\n"
          ]
        }
      ]
    },
    {
      "cell_type": "code",
      "source": [
        "test_df = pd.read_csv(\"FinancES_test_kaggle.csv\", encoding=\"utf-8\")  # solo tiene id, text\n",
        "test_dataset = Dataset.from_pandas(test_df)\n",
        "test_dataset = test_dataset.map(tokenize_function, batched=True)\n",
        "\n",
        "# Si no está la columna 'label', solo remueves 'id' y 'text'\n",
        "test_dataset = test_dataset.remove_columns(['id','text'])\n",
        "\n",
        "# Generamos las predicciones\n",
        "predictions = trainer.predict(test_dataset)\n",
        "test_preds = np.argmax(predictions.predictions, axis=-1)\n",
        "\n",
        "# Luego guardamos en un CSV las predicciones\n",
        "submission = pd.DataFrame({\n",
        "    \"id\": test_df[\"id\"],\n",
        "    \"label\": test_preds\n",
        "})\n",
        "submission.to_csv(\"predicciones_test.csv\", index=False)\n",
        "\n",
        "print(\"Predicciones generadas. El archivo 'predicciones_test.csv' tiene el id y la predicción.\")\n"
      ],
      "metadata": {
        "id": "4SSzCm8lngry",
        "colab": {
          "base_uri": "https://localhost:8080/",
          "height": 66,
          "referenced_widgets": [
            "f42f8bd2a8fc4f7db3ac20928cb9347a",
            "22b2aa42e96347fe9e10d4b0409dd95c",
            "9aaae4f4676849c9aa695a1f1288a6ff",
            "85061d3f535c4ebba361e5c352b9b456",
            "c55a40e6f4ce4b2a982ed5fa4809ea99",
            "dd6355fa174c403dbcabbf1dc8dbefdb",
            "a429f404b062490aa711f54eb7336cba",
            "26b650b00a1a46e38a08e7d8c993b492",
            "a69a2390876846cf96edf29da64ce6b4",
            "3eb3953021aa4323ac7c9d8aa97ce77b",
            "28800ba300d3413b8482702e7819e7e1"
          ]
        },
        "outputId": "1881d0a5-566b-4b36-8321-27281b8f20f0"
      },
      "execution_count": null,
      "outputs": [
        {
          "output_type": "display_data",
          "data": {
            "text/plain": [
              "Map:   0%|          | 0/1621 [00:00<?, ? examples/s]"
            ],
            "application/vnd.jupyter.widget-view+json": {
              "version_major": 2,
              "version_minor": 0,
              "model_id": "f42f8bd2a8fc4f7db3ac20928cb9347a"
            }
          },
          "metadata": {}
        },
        {
          "output_type": "display_data",
          "data": {
            "text/plain": [
              "<IPython.core.display.HTML object>"
            ],
            "text/html": []
          },
          "metadata": {}
        },
        {
          "output_type": "stream",
          "name": "stdout",
          "text": [
            "Predicciones generadas. El archivo 'predicciones_test.csv' tiene el id y la predicción.\n"
          ]
        }
      ]
    },
    {
      "cell_type": "code",
      "source": [
        "!zip -r beto-sentiment-checkpoints.zip beto-sentiment-checkpoints"
      ],
      "metadata": {
        "colab": {
          "base_uri": "https://localhost:8080/",
          "height": 785
        },
        "id": "E7ujR-zRuVCE",
        "outputId": "0d83ccce-a49b-43e9-e72d-ff4c2c03b900"
      },
      "execution_count": null,
      "outputs": [
        {
          "output_type": "stream",
          "name": "stdout",
          "text": [
            "  adding: beto-sentiment-checkpoints/ (stored 0%)\n",
            "  adding: beto-sentiment-checkpoints/checkpoint-318/ (stored 0%)\n",
            "  adding: beto-sentiment-checkpoints/checkpoint-318/trainer_state.json (deflated 63%)\n",
            "  adding: beto-sentiment-checkpoints/checkpoint-318/scheduler.pt (deflated 56%)\n",
            "  adding: beto-sentiment-checkpoints/checkpoint-318/tokenizer.json (deflated 71%)\n",
            "  adding: beto-sentiment-checkpoints/checkpoint-318/training_args.bin (deflated 52%)\n",
            "  adding: beto-sentiment-checkpoints/checkpoint-318/config.json (deflated 51%)\n",
            "  adding: beto-sentiment-checkpoints/checkpoint-318/rng_state.pth (deflated 25%)\n",
            "  adding: beto-sentiment-checkpoints/checkpoint-318/optimizer.pt (deflated 23%)\n",
            "  adding: beto-sentiment-checkpoints/checkpoint-318/vocab.txt (deflated 56%)\n",
            "  adding: beto-sentiment-checkpoints/checkpoint-318/tokenizer_config.json (deflated 75%)\n",
            "  adding: beto-sentiment-checkpoints/checkpoint-318/model.safetensors (deflated 7%)\n",
            "  adding: beto-sentiment-checkpoints/checkpoint-318/special_tokens_map.json (deflated 80%)\n",
            "  adding: beto-sentiment-checkpoints/checkpoint-636/ (stored 0%)\n",
            "  adding: beto-sentiment-checkpoints/checkpoint-636/trainer_state.json (deflated 69%)\n",
            "  adding: beto-sentiment-checkpoints/checkpoint-636/scheduler.pt (deflated 56%)\n",
            "  adding: beto-sentiment-checkpoints/checkpoint-636/tokenizer.json (deflated 71%)\n",
            "  adding: beto-sentiment-checkpoints/checkpoint-636/training_args.bin (deflated 52%)\n",
            "  adding: beto-sentiment-checkpoints/checkpoint-636/config.json (deflated 51%)\n",
            "  adding: beto-sentiment-checkpoints/checkpoint-636/rng_state.pth (deflated 25%)\n",
            "  adding: beto-sentiment-checkpoints/checkpoint-636/optimizer.pt (deflated 23%)\n",
            "  adding: beto-sentiment-checkpoints/checkpoint-636/vocab.txt (deflated 56%)\n",
            "  adding: beto-sentiment-checkpoints/checkpoint-636/tokenizer_config.json (deflated 75%)\n",
            "  adding: beto-sentiment-checkpoints/checkpoint-636/model.safetensors (deflated 7%)\n",
            "  adding: beto-sentiment-checkpoints/checkpoint-636/special_tokens_map.json (deflated 80%)\n",
            "  adding: beto-sentiment-checkpoints/runs/ (stored 0%)\n",
            "  adding: beto-sentiment-checkpoints/runs/Jan31_09-17-28_4f797c0f3e28/ (stored 0%)\n",
            "  adding: beto-sentiment-checkpoints/runs/Jan31_09-17-28_4f797c0f3e28/events.out.tfevents.1738315049.4f797c0f3e28.2277.1 (deflated 62%)\n",
            "  adding: beto-sentiment-checkpoints/runs/Jan31_09-17-28_4f797c0f3e28/events.out.tfevents.1738315457.4f797c0f3e28.2277.2 (deflated 26%)\n",
            "  adding: beto-sentiment-checkpoints/runs/Jan31_09-13-38_4f797c0f3e28/ (stored 0%)\n",
            "  adding: beto-sentiment-checkpoints/runs/Jan31_09-13-38_4f797c0f3e28/events.out.tfevents.1738314823.4f797c0f3e28.2277.0 (deflated 61%)\n",
            "  adding: beto-sentiment-checkpoints/checkpoint-954/ (stored 0%)\n",
            "  adding: beto-sentiment-checkpoints/checkpoint-954/trainer_state.json (deflated 72%)\n",
            "  adding: beto-sentiment-checkpoints/checkpoint-954/scheduler.pt (deflated 56%)\n",
            "  adding: beto-sentiment-checkpoints/checkpoint-954/tokenizer.json (deflated 71%)\n",
            "  adding: beto-sentiment-checkpoints/checkpoint-954/training_args.bin (deflated 52%)\n",
            "  adding: beto-sentiment-checkpoints/checkpoint-954/config.json (deflated 51%)\n",
            "  adding: beto-sentiment-checkpoints/checkpoint-954/rng_state.pth (deflated 25%)\n",
            "  adding: beto-sentiment-checkpoints/checkpoint-954/optimizer.pt (deflated 23%)\n",
            "  adding: beto-sentiment-checkpoints/checkpoint-954/vocab.txt (deflated 56%)\n",
            "  adding: beto-sentiment-checkpoints/checkpoint-954/tokenizer_config.json (deflated 75%)\n",
            "  adding: beto-sentiment-checkpoints/checkpoint-954/model.safetensors (deflated 7%)\n",
            "  adding: beto-sentiment-checkpoints/checkpoint-954/special_tokens_map.json (deflated 80%)\n"
          ]
        },
        {
          "output_type": "display_data",
          "data": {
            "text/plain": [
              "<IPython.core.display.Javascript object>"
            ],
            "application/javascript": [
              "\n",
              "    async function download(id, filename, size) {\n",
              "      if (!google.colab.kernel.accessAllowed) {\n",
              "        return;\n",
              "      }\n",
              "      const div = document.createElement('div');\n",
              "      const label = document.createElement('label');\n",
              "      label.textContent = `Downloading \"${filename}\": `;\n",
              "      div.appendChild(label);\n",
              "      const progress = document.createElement('progress');\n",
              "      progress.max = size;\n",
              "      div.appendChild(progress);\n",
              "      document.body.appendChild(div);\n",
              "\n",
              "      const buffers = [];\n",
              "      let downloaded = 0;\n",
              "\n",
              "      const channel = await google.colab.kernel.comms.open(id);\n",
              "      // Send a message to notify the kernel that we're ready.\n",
              "      channel.send({})\n",
              "\n",
              "      for await (const message of channel.messages) {\n",
              "        // Send a message to notify the kernel that we're ready.\n",
              "        channel.send({})\n",
              "        if (message.buffers) {\n",
              "          for (const buffer of message.buffers) {\n",
              "            buffers.push(buffer);\n",
              "            downloaded += buffer.byteLength;\n",
              "            progress.value = downloaded;\n",
              "          }\n",
              "        }\n",
              "      }\n",
              "      const blob = new Blob(buffers, {type: 'application/binary'});\n",
              "      const a = document.createElement('a');\n",
              "      a.href = window.URL.createObjectURL(blob);\n",
              "      a.download = filename;\n",
              "      div.appendChild(a);\n",
              "      a.click();\n",
              "      div.remove();\n",
              "    }\n",
              "  "
            ]
          },
          "metadata": {}
        },
        {
          "output_type": "display_data",
          "data": {
            "text/plain": [
              "<IPython.core.display.Javascript object>"
            ],
            "application/javascript": [
              "download(\"download_3891595d-d807-4102-9f52-244752de8213\", \"beto-sentiment-checkpoints.zip\", 3262741632)"
            ]
          },
          "metadata": {}
        }
      ]
    }
  ],
  "metadata": {
    "colab": {
      "provenance": [],
      "gpuType": "T4"
    },
    "kernelspec": {
      "display_name": "Python 3",
      "name": "python3"
    },
    "accelerator": "GPU",
    "widgets": {
      "application/vnd.jupyter.widget-state+json": {
        "c7029022334f460da960ca8f18558c5a": {
          "model_module": "@jupyter-widgets/controls",
          "model_name": "HBoxModel",
          "model_module_version": "1.5.0",
          "state": {
            "_dom_classes": [],
            "_model_module": "@jupyter-widgets/controls",
            "_model_module_version": "1.5.0",
            "_model_name": "HBoxModel",
            "_view_count": null,
            "_view_module": "@jupyter-widgets/controls",
            "_view_module_version": "1.5.0",
            "_view_name": "HBoxView",
            "box_style": "",
            "children": [
              "IPY_MODEL_e44d55f2c2ba44e99e3b0aee8246617c",
              "IPY_MODEL_376cfd7ad3604cfa9d7df3dfa7d4de04",
              "IPY_MODEL_64877e72662545edafeff61955c72100"
            ],
            "layout": "IPY_MODEL_2125e75213014d4aa14390107d5a360c"
          }
        },
        "e44d55f2c2ba44e99e3b0aee8246617c": {
          "model_module": "@jupyter-widgets/controls",
          "model_name": "HTMLModel",
          "model_module_version": "1.5.0",
          "state": {
            "_dom_classes": [],
            "_model_module": "@jupyter-widgets/controls",
            "_model_module_version": "1.5.0",
            "_model_name": "HTMLModel",
            "_view_count": null,
            "_view_module": "@jupyter-widgets/controls",
            "_view_module_version": "1.5.0",
            "_view_name": "HTMLView",
            "description": "",
            "description_tooltip": null,
            "layout": "IPY_MODEL_57684b1330914b288029a675e8268278",
            "placeholder": "​",
            "style": "IPY_MODEL_c5ea6da078a746c39395f2e80adb45e1",
            "value": "Map: 100%"
          }
        },
        "376cfd7ad3604cfa9d7df3dfa7d4de04": {
          "model_module": "@jupyter-widgets/controls",
          "model_name": "FloatProgressModel",
          "model_module_version": "1.5.0",
          "state": {
            "_dom_classes": [],
            "_model_module": "@jupyter-widgets/controls",
            "_model_module_version": "1.5.0",
            "_model_name": "FloatProgressModel",
            "_view_count": null,
            "_view_module": "@jupyter-widgets/controls",
            "_view_module_version": "1.5.0",
            "_view_name": "ProgressView",
            "bar_style": "success",
            "description": "",
            "description_tooltip": null,
            "layout": "IPY_MODEL_c46ad1c8d7d54bd99eb94ac71e3a9f13",
            "max": 5087,
            "min": 0,
            "orientation": "horizontal",
            "style": "IPY_MODEL_b0ff0bc5cda742d9b6ef8af49d0ae1db",
            "value": 5087
          }
        },
        "64877e72662545edafeff61955c72100": {
          "model_module": "@jupyter-widgets/controls",
          "model_name": "HTMLModel",
          "model_module_version": "1.5.0",
          "state": {
            "_dom_classes": [],
            "_model_module": "@jupyter-widgets/controls",
            "_model_module_version": "1.5.0",
            "_model_name": "HTMLModel",
            "_view_count": null,
            "_view_module": "@jupyter-widgets/controls",
            "_view_module_version": "1.5.0",
            "_view_name": "HTMLView",
            "description": "",
            "description_tooltip": null,
            "layout": "IPY_MODEL_e47fbcac8b394256b37c20ea5c90259d",
            "placeholder": "​",
            "style": "IPY_MODEL_5a861183e86e461e9150823633ec6ac1",
            "value": " 5087/5087 [00:00&lt;00:00, 5935.34 examples/s]"
          }
        },
        "2125e75213014d4aa14390107d5a360c": {
          "model_module": "@jupyter-widgets/base",
          "model_name": "LayoutModel",
          "model_module_version": "1.2.0",
          "state": {
            "_model_module": "@jupyter-widgets/base",
            "_model_module_version": "1.2.0",
            "_model_name": "LayoutModel",
            "_view_count": null,
            "_view_module": "@jupyter-widgets/base",
            "_view_module_version": "1.2.0",
            "_view_name": "LayoutView",
            "align_content": null,
            "align_items": null,
            "align_self": null,
            "border": null,
            "bottom": null,
            "display": null,
            "flex": null,
            "flex_flow": null,
            "grid_area": null,
            "grid_auto_columns": null,
            "grid_auto_flow": null,
            "grid_auto_rows": null,
            "grid_column": null,
            "grid_gap": null,
            "grid_row": null,
            "grid_template_areas": null,
            "grid_template_columns": null,
            "grid_template_rows": null,
            "height": null,
            "justify_content": null,
            "justify_items": null,
            "left": null,
            "margin": null,
            "max_height": null,
            "max_width": null,
            "min_height": null,
            "min_width": null,
            "object_fit": null,
            "object_position": null,
            "order": null,
            "overflow": null,
            "overflow_x": null,
            "overflow_y": null,
            "padding": null,
            "right": null,
            "top": null,
            "visibility": null,
            "width": null
          }
        },
        "57684b1330914b288029a675e8268278": {
          "model_module": "@jupyter-widgets/base",
          "model_name": "LayoutModel",
          "model_module_version": "1.2.0",
          "state": {
            "_model_module": "@jupyter-widgets/base",
            "_model_module_version": "1.2.0",
            "_model_name": "LayoutModel",
            "_view_count": null,
            "_view_module": "@jupyter-widgets/base",
            "_view_module_version": "1.2.0",
            "_view_name": "LayoutView",
            "align_content": null,
            "align_items": null,
            "align_self": null,
            "border": null,
            "bottom": null,
            "display": null,
            "flex": null,
            "flex_flow": null,
            "grid_area": null,
            "grid_auto_columns": null,
            "grid_auto_flow": null,
            "grid_auto_rows": null,
            "grid_column": null,
            "grid_gap": null,
            "grid_row": null,
            "grid_template_areas": null,
            "grid_template_columns": null,
            "grid_template_rows": null,
            "height": null,
            "justify_content": null,
            "justify_items": null,
            "left": null,
            "margin": null,
            "max_height": null,
            "max_width": null,
            "min_height": null,
            "min_width": null,
            "object_fit": null,
            "object_position": null,
            "order": null,
            "overflow": null,
            "overflow_x": null,
            "overflow_y": null,
            "padding": null,
            "right": null,
            "top": null,
            "visibility": null,
            "width": null
          }
        },
        "c5ea6da078a746c39395f2e80adb45e1": {
          "model_module": "@jupyter-widgets/controls",
          "model_name": "DescriptionStyleModel",
          "model_module_version": "1.5.0",
          "state": {
            "_model_module": "@jupyter-widgets/controls",
            "_model_module_version": "1.5.0",
            "_model_name": "DescriptionStyleModel",
            "_view_count": null,
            "_view_module": "@jupyter-widgets/base",
            "_view_module_version": "1.2.0",
            "_view_name": "StyleView",
            "description_width": ""
          }
        },
        "c46ad1c8d7d54bd99eb94ac71e3a9f13": {
          "model_module": "@jupyter-widgets/base",
          "model_name": "LayoutModel",
          "model_module_version": "1.2.0",
          "state": {
            "_model_module": "@jupyter-widgets/base",
            "_model_module_version": "1.2.0",
            "_model_name": "LayoutModel",
            "_view_count": null,
            "_view_module": "@jupyter-widgets/base",
            "_view_module_version": "1.2.0",
            "_view_name": "LayoutView",
            "align_content": null,
            "align_items": null,
            "align_self": null,
            "border": null,
            "bottom": null,
            "display": null,
            "flex": null,
            "flex_flow": null,
            "grid_area": null,
            "grid_auto_columns": null,
            "grid_auto_flow": null,
            "grid_auto_rows": null,
            "grid_column": null,
            "grid_gap": null,
            "grid_row": null,
            "grid_template_areas": null,
            "grid_template_columns": null,
            "grid_template_rows": null,
            "height": null,
            "justify_content": null,
            "justify_items": null,
            "left": null,
            "margin": null,
            "max_height": null,
            "max_width": null,
            "min_height": null,
            "min_width": null,
            "object_fit": null,
            "object_position": null,
            "order": null,
            "overflow": null,
            "overflow_x": null,
            "overflow_y": null,
            "padding": null,
            "right": null,
            "top": null,
            "visibility": null,
            "width": null
          }
        },
        "b0ff0bc5cda742d9b6ef8af49d0ae1db": {
          "model_module": "@jupyter-widgets/controls",
          "model_name": "ProgressStyleModel",
          "model_module_version": "1.5.0",
          "state": {
            "_model_module": "@jupyter-widgets/controls",
            "_model_module_version": "1.5.0",
            "_model_name": "ProgressStyleModel",
            "_view_count": null,
            "_view_module": "@jupyter-widgets/base",
            "_view_module_version": "1.2.0",
            "_view_name": "StyleView",
            "bar_color": null,
            "description_width": ""
          }
        },
        "e47fbcac8b394256b37c20ea5c90259d": {
          "model_module": "@jupyter-widgets/base",
          "model_name": "LayoutModel",
          "model_module_version": "1.2.0",
          "state": {
            "_model_module": "@jupyter-widgets/base",
            "_model_module_version": "1.2.0",
            "_model_name": "LayoutModel",
            "_view_count": null,
            "_view_module": "@jupyter-widgets/base",
            "_view_module_version": "1.2.0",
            "_view_name": "LayoutView",
            "align_content": null,
            "align_items": null,
            "align_self": null,
            "border": null,
            "bottom": null,
            "display": null,
            "flex": null,
            "flex_flow": null,
            "grid_area": null,
            "grid_auto_columns": null,
            "grid_auto_flow": null,
            "grid_auto_rows": null,
            "grid_column": null,
            "grid_gap": null,
            "grid_row": null,
            "grid_template_areas": null,
            "grid_template_columns": null,
            "grid_template_rows": null,
            "height": null,
            "justify_content": null,
            "justify_items": null,
            "left": null,
            "margin": null,
            "max_height": null,
            "max_width": null,
            "min_height": null,
            "min_width": null,
            "object_fit": null,
            "object_position": null,
            "order": null,
            "overflow": null,
            "overflow_x": null,
            "overflow_y": null,
            "padding": null,
            "right": null,
            "top": null,
            "visibility": null,
            "width": null
          }
        },
        "5a861183e86e461e9150823633ec6ac1": {
          "model_module": "@jupyter-widgets/controls",
          "model_name": "DescriptionStyleModel",
          "model_module_version": "1.5.0",
          "state": {
            "_model_module": "@jupyter-widgets/controls",
            "_model_module_version": "1.5.0",
            "_model_name": "DescriptionStyleModel",
            "_view_count": null,
            "_view_module": "@jupyter-widgets/base",
            "_view_module_version": "1.2.0",
            "_view_name": "StyleView",
            "description_width": ""
          }
        },
        "c668d7e44f264a3786a08f80326fafb1": {
          "model_module": "@jupyter-widgets/controls",
          "model_name": "HBoxModel",
          "model_module_version": "1.5.0",
          "state": {
            "_dom_classes": [],
            "_model_module": "@jupyter-widgets/controls",
            "_model_module_version": "1.5.0",
            "_model_name": "HBoxModel",
            "_view_count": null,
            "_view_module": "@jupyter-widgets/controls",
            "_view_module_version": "1.5.0",
            "_view_name": "HBoxView",
            "box_style": "",
            "children": [
              "IPY_MODEL_820e16cf22634c209efdeb85294ec091",
              "IPY_MODEL_65c6696dd2864949b87364b097c6f1cb",
              "IPY_MODEL_5ac7b1568a8c44448e19396d29cc5417"
            ],
            "layout": "IPY_MODEL_71c68fbd3d844dfdb321c3d8c465579d"
          }
        },
        "820e16cf22634c209efdeb85294ec091": {
          "model_module": "@jupyter-widgets/controls",
          "model_name": "HTMLModel",
          "model_module_version": "1.5.0",
          "state": {
            "_dom_classes": [],
            "_model_module": "@jupyter-widgets/controls",
            "_model_module_version": "1.5.0",
            "_model_name": "HTMLModel",
            "_view_count": null,
            "_view_module": "@jupyter-widgets/controls",
            "_view_module_version": "1.5.0",
            "_view_name": "HTMLView",
            "description": "",
            "description_tooltip": null,
            "layout": "IPY_MODEL_2b2175d87d5043c398963848e2aa2e65",
            "placeholder": "​",
            "style": "IPY_MODEL_696aa4d66c51438eaac197541f4f9121",
            "value": "Map: 100%"
          }
        },
        "65c6696dd2864949b87364b097c6f1cb": {
          "model_module": "@jupyter-widgets/controls",
          "model_name": "FloatProgressModel",
          "model_module_version": "1.5.0",
          "state": {
            "_dom_classes": [],
            "_model_module": "@jupyter-widgets/controls",
            "_model_module_version": "1.5.0",
            "_model_name": "FloatProgressModel",
            "_view_count": null,
            "_view_module": "@jupyter-widgets/controls",
            "_view_module_version": "1.5.0",
            "_view_name": "ProgressView",
            "bar_style": "success",
            "description": "",
            "description_tooltip": null,
            "layout": "IPY_MODEL_6362aeb70b194a9f86652d592fd8339a",
            "max": 1272,
            "min": 0,
            "orientation": "horizontal",
            "style": "IPY_MODEL_538fdb68593c49adaeea866f83509e22",
            "value": 1272
          }
        },
        "5ac7b1568a8c44448e19396d29cc5417": {
          "model_module": "@jupyter-widgets/controls",
          "model_name": "HTMLModel",
          "model_module_version": "1.5.0",
          "state": {
            "_dom_classes": [],
            "_model_module": "@jupyter-widgets/controls",
            "_model_module_version": "1.5.0",
            "_model_name": "HTMLModel",
            "_view_count": null,
            "_view_module": "@jupyter-widgets/controls",
            "_view_module_version": "1.5.0",
            "_view_name": "HTMLView",
            "description": "",
            "description_tooltip": null,
            "layout": "IPY_MODEL_8d1b4ff172a343d1956387ed1fa645de",
            "placeholder": "​",
            "style": "IPY_MODEL_e0ab9a2ef4a14936bf590cabefcc2dd7",
            "value": " 1272/1272 [00:00&lt;00:00, 4015.64 examples/s]"
          }
        },
        "71c68fbd3d844dfdb321c3d8c465579d": {
          "model_module": "@jupyter-widgets/base",
          "model_name": "LayoutModel",
          "model_module_version": "1.2.0",
          "state": {
            "_model_module": "@jupyter-widgets/base",
            "_model_module_version": "1.2.0",
            "_model_name": "LayoutModel",
            "_view_count": null,
            "_view_module": "@jupyter-widgets/base",
            "_view_module_version": "1.2.0",
            "_view_name": "LayoutView",
            "align_content": null,
            "align_items": null,
            "align_self": null,
            "border": null,
            "bottom": null,
            "display": null,
            "flex": null,
            "flex_flow": null,
            "grid_area": null,
            "grid_auto_columns": null,
            "grid_auto_flow": null,
            "grid_auto_rows": null,
            "grid_column": null,
            "grid_gap": null,
            "grid_row": null,
            "grid_template_areas": null,
            "grid_template_columns": null,
            "grid_template_rows": null,
            "height": null,
            "justify_content": null,
            "justify_items": null,
            "left": null,
            "margin": null,
            "max_height": null,
            "max_width": null,
            "min_height": null,
            "min_width": null,
            "object_fit": null,
            "object_position": null,
            "order": null,
            "overflow": null,
            "overflow_x": null,
            "overflow_y": null,
            "padding": null,
            "right": null,
            "top": null,
            "visibility": null,
            "width": null
          }
        },
        "2b2175d87d5043c398963848e2aa2e65": {
          "model_module": "@jupyter-widgets/base",
          "model_name": "LayoutModel",
          "model_module_version": "1.2.0",
          "state": {
            "_model_module": "@jupyter-widgets/base",
            "_model_module_version": "1.2.0",
            "_model_name": "LayoutModel",
            "_view_count": null,
            "_view_module": "@jupyter-widgets/base",
            "_view_module_version": "1.2.0",
            "_view_name": "LayoutView",
            "align_content": null,
            "align_items": null,
            "align_self": null,
            "border": null,
            "bottom": null,
            "display": null,
            "flex": null,
            "flex_flow": null,
            "grid_area": null,
            "grid_auto_columns": null,
            "grid_auto_flow": null,
            "grid_auto_rows": null,
            "grid_column": null,
            "grid_gap": null,
            "grid_row": null,
            "grid_template_areas": null,
            "grid_template_columns": null,
            "grid_template_rows": null,
            "height": null,
            "justify_content": null,
            "justify_items": null,
            "left": null,
            "margin": null,
            "max_height": null,
            "max_width": null,
            "min_height": null,
            "min_width": null,
            "object_fit": null,
            "object_position": null,
            "order": null,
            "overflow": null,
            "overflow_x": null,
            "overflow_y": null,
            "padding": null,
            "right": null,
            "top": null,
            "visibility": null,
            "width": null
          }
        },
        "696aa4d66c51438eaac197541f4f9121": {
          "model_module": "@jupyter-widgets/controls",
          "model_name": "DescriptionStyleModel",
          "model_module_version": "1.5.0",
          "state": {
            "_model_module": "@jupyter-widgets/controls",
            "_model_module_version": "1.5.0",
            "_model_name": "DescriptionStyleModel",
            "_view_count": null,
            "_view_module": "@jupyter-widgets/base",
            "_view_module_version": "1.2.0",
            "_view_name": "StyleView",
            "description_width": ""
          }
        },
        "6362aeb70b194a9f86652d592fd8339a": {
          "model_module": "@jupyter-widgets/base",
          "model_name": "LayoutModel",
          "model_module_version": "1.2.0",
          "state": {
            "_model_module": "@jupyter-widgets/base",
            "_model_module_version": "1.2.0",
            "_model_name": "LayoutModel",
            "_view_count": null,
            "_view_module": "@jupyter-widgets/base",
            "_view_module_version": "1.2.0",
            "_view_name": "LayoutView",
            "align_content": null,
            "align_items": null,
            "align_self": null,
            "border": null,
            "bottom": null,
            "display": null,
            "flex": null,
            "flex_flow": null,
            "grid_area": null,
            "grid_auto_columns": null,
            "grid_auto_flow": null,
            "grid_auto_rows": null,
            "grid_column": null,
            "grid_gap": null,
            "grid_row": null,
            "grid_template_areas": null,
            "grid_template_columns": null,
            "grid_template_rows": null,
            "height": null,
            "justify_content": null,
            "justify_items": null,
            "left": null,
            "margin": null,
            "max_height": null,
            "max_width": null,
            "min_height": null,
            "min_width": null,
            "object_fit": null,
            "object_position": null,
            "order": null,
            "overflow": null,
            "overflow_x": null,
            "overflow_y": null,
            "padding": null,
            "right": null,
            "top": null,
            "visibility": null,
            "width": null
          }
        },
        "538fdb68593c49adaeea866f83509e22": {
          "model_module": "@jupyter-widgets/controls",
          "model_name": "ProgressStyleModel",
          "model_module_version": "1.5.0",
          "state": {
            "_model_module": "@jupyter-widgets/controls",
            "_model_module_version": "1.5.0",
            "_model_name": "ProgressStyleModel",
            "_view_count": null,
            "_view_module": "@jupyter-widgets/base",
            "_view_module_version": "1.2.0",
            "_view_name": "StyleView",
            "bar_color": null,
            "description_width": ""
          }
        },
        "8d1b4ff172a343d1956387ed1fa645de": {
          "model_module": "@jupyter-widgets/base",
          "model_name": "LayoutModel",
          "model_module_version": "1.2.0",
          "state": {
            "_model_module": "@jupyter-widgets/base",
            "_model_module_version": "1.2.0",
            "_model_name": "LayoutModel",
            "_view_count": null,
            "_view_module": "@jupyter-widgets/base",
            "_view_module_version": "1.2.0",
            "_view_name": "LayoutView",
            "align_content": null,
            "align_items": null,
            "align_self": null,
            "border": null,
            "bottom": null,
            "display": null,
            "flex": null,
            "flex_flow": null,
            "grid_area": null,
            "grid_auto_columns": null,
            "grid_auto_flow": null,
            "grid_auto_rows": null,
            "grid_column": null,
            "grid_gap": null,
            "grid_row": null,
            "grid_template_areas": null,
            "grid_template_columns": null,
            "grid_template_rows": null,
            "height": null,
            "justify_content": null,
            "justify_items": null,
            "left": null,
            "margin": null,
            "max_height": null,
            "max_width": null,
            "min_height": null,
            "min_width": null,
            "object_fit": null,
            "object_position": null,
            "order": null,
            "overflow": null,
            "overflow_x": null,
            "overflow_y": null,
            "padding": null,
            "right": null,
            "top": null,
            "visibility": null,
            "width": null
          }
        },
        "e0ab9a2ef4a14936bf590cabefcc2dd7": {
          "model_module": "@jupyter-widgets/controls",
          "model_name": "DescriptionStyleModel",
          "model_module_version": "1.5.0",
          "state": {
            "_model_module": "@jupyter-widgets/controls",
            "_model_module_version": "1.5.0",
            "_model_name": "DescriptionStyleModel",
            "_view_count": null,
            "_view_module": "@jupyter-widgets/base",
            "_view_module_version": "1.2.0",
            "_view_name": "StyleView",
            "description_width": ""
          }
        },
        "f42f8bd2a8fc4f7db3ac20928cb9347a": {
          "model_module": "@jupyter-widgets/controls",
          "model_name": "HBoxModel",
          "model_module_version": "1.5.0",
          "state": {
            "_dom_classes": [],
            "_model_module": "@jupyter-widgets/controls",
            "_model_module_version": "1.5.0",
            "_model_name": "HBoxModel",
            "_view_count": null,
            "_view_module": "@jupyter-widgets/controls",
            "_view_module_version": "1.5.0",
            "_view_name": "HBoxView",
            "box_style": "",
            "children": [
              "IPY_MODEL_22b2aa42e96347fe9e10d4b0409dd95c",
              "IPY_MODEL_9aaae4f4676849c9aa695a1f1288a6ff",
              "IPY_MODEL_85061d3f535c4ebba361e5c352b9b456"
            ],
            "layout": "IPY_MODEL_c55a40e6f4ce4b2a982ed5fa4809ea99"
          }
        },
        "22b2aa42e96347fe9e10d4b0409dd95c": {
          "model_module": "@jupyter-widgets/controls",
          "model_name": "HTMLModel",
          "model_module_version": "1.5.0",
          "state": {
            "_dom_classes": [],
            "_model_module": "@jupyter-widgets/controls",
            "_model_module_version": "1.5.0",
            "_model_name": "HTMLModel",
            "_view_count": null,
            "_view_module": "@jupyter-widgets/controls",
            "_view_module_version": "1.5.0",
            "_view_name": "HTMLView",
            "description": "",
            "description_tooltip": null,
            "layout": "IPY_MODEL_dd6355fa174c403dbcabbf1dc8dbefdb",
            "placeholder": "​",
            "style": "IPY_MODEL_a429f404b062490aa711f54eb7336cba",
            "value": "Map: 100%"
          }
        },
        "9aaae4f4676849c9aa695a1f1288a6ff": {
          "model_module": "@jupyter-widgets/controls",
          "model_name": "FloatProgressModel",
          "model_module_version": "1.5.0",
          "state": {
            "_dom_classes": [],
            "_model_module": "@jupyter-widgets/controls",
            "_model_module_version": "1.5.0",
            "_model_name": "FloatProgressModel",
            "_view_count": null,
            "_view_module": "@jupyter-widgets/controls",
            "_view_module_version": "1.5.0",
            "_view_name": "ProgressView",
            "bar_style": "success",
            "description": "",
            "description_tooltip": null,
            "layout": "IPY_MODEL_26b650b00a1a46e38a08e7d8c993b492",
            "max": 1621,
            "min": 0,
            "orientation": "horizontal",
            "style": "IPY_MODEL_a69a2390876846cf96edf29da64ce6b4",
            "value": 1621
          }
        },
        "85061d3f535c4ebba361e5c352b9b456": {
          "model_module": "@jupyter-widgets/controls",
          "model_name": "HTMLModel",
          "model_module_version": "1.5.0",
          "state": {
            "_dom_classes": [],
            "_model_module": "@jupyter-widgets/controls",
            "_model_module_version": "1.5.0",
            "_model_name": "HTMLModel",
            "_view_count": null,
            "_view_module": "@jupyter-widgets/controls",
            "_view_module_version": "1.5.0",
            "_view_name": "HTMLView",
            "description": "",
            "description_tooltip": null,
            "layout": "IPY_MODEL_3eb3953021aa4323ac7c9d8aa97ce77b",
            "placeholder": "​",
            "style": "IPY_MODEL_28800ba300d3413b8482702e7819e7e1",
            "value": " 1621/1621 [00:00&lt;00:00, 2868.53 examples/s]"
          }
        },
        "c55a40e6f4ce4b2a982ed5fa4809ea99": {
          "model_module": "@jupyter-widgets/base",
          "model_name": "LayoutModel",
          "model_module_version": "1.2.0",
          "state": {
            "_model_module": "@jupyter-widgets/base",
            "_model_module_version": "1.2.0",
            "_model_name": "LayoutModel",
            "_view_count": null,
            "_view_module": "@jupyter-widgets/base",
            "_view_module_version": "1.2.0",
            "_view_name": "LayoutView",
            "align_content": null,
            "align_items": null,
            "align_self": null,
            "border": null,
            "bottom": null,
            "display": null,
            "flex": null,
            "flex_flow": null,
            "grid_area": null,
            "grid_auto_columns": null,
            "grid_auto_flow": null,
            "grid_auto_rows": null,
            "grid_column": null,
            "grid_gap": null,
            "grid_row": null,
            "grid_template_areas": null,
            "grid_template_columns": null,
            "grid_template_rows": null,
            "height": null,
            "justify_content": null,
            "justify_items": null,
            "left": null,
            "margin": null,
            "max_height": null,
            "max_width": null,
            "min_height": null,
            "min_width": null,
            "object_fit": null,
            "object_position": null,
            "order": null,
            "overflow": null,
            "overflow_x": null,
            "overflow_y": null,
            "padding": null,
            "right": null,
            "top": null,
            "visibility": null,
            "width": null
          }
        },
        "dd6355fa174c403dbcabbf1dc8dbefdb": {
          "model_module": "@jupyter-widgets/base",
          "model_name": "LayoutModel",
          "model_module_version": "1.2.0",
          "state": {
            "_model_module": "@jupyter-widgets/base",
            "_model_module_version": "1.2.0",
            "_model_name": "LayoutModel",
            "_view_count": null,
            "_view_module": "@jupyter-widgets/base",
            "_view_module_version": "1.2.0",
            "_view_name": "LayoutView",
            "align_content": null,
            "align_items": null,
            "align_self": null,
            "border": null,
            "bottom": null,
            "display": null,
            "flex": null,
            "flex_flow": null,
            "grid_area": null,
            "grid_auto_columns": null,
            "grid_auto_flow": null,
            "grid_auto_rows": null,
            "grid_column": null,
            "grid_gap": null,
            "grid_row": null,
            "grid_template_areas": null,
            "grid_template_columns": null,
            "grid_template_rows": null,
            "height": null,
            "justify_content": null,
            "justify_items": null,
            "left": null,
            "margin": null,
            "max_height": null,
            "max_width": null,
            "min_height": null,
            "min_width": null,
            "object_fit": null,
            "object_position": null,
            "order": null,
            "overflow": null,
            "overflow_x": null,
            "overflow_y": null,
            "padding": null,
            "right": null,
            "top": null,
            "visibility": null,
            "width": null
          }
        },
        "a429f404b062490aa711f54eb7336cba": {
          "model_module": "@jupyter-widgets/controls",
          "model_name": "DescriptionStyleModel",
          "model_module_version": "1.5.0",
          "state": {
            "_model_module": "@jupyter-widgets/controls",
            "_model_module_version": "1.5.0",
            "_model_name": "DescriptionStyleModel",
            "_view_count": null,
            "_view_module": "@jupyter-widgets/base",
            "_view_module_version": "1.2.0",
            "_view_name": "StyleView",
            "description_width": ""
          }
        },
        "26b650b00a1a46e38a08e7d8c993b492": {
          "model_module": "@jupyter-widgets/base",
          "model_name": "LayoutModel",
          "model_module_version": "1.2.0",
          "state": {
            "_model_module": "@jupyter-widgets/base",
            "_model_module_version": "1.2.0",
            "_model_name": "LayoutModel",
            "_view_count": null,
            "_view_module": "@jupyter-widgets/base",
            "_view_module_version": "1.2.0",
            "_view_name": "LayoutView",
            "align_content": null,
            "align_items": null,
            "align_self": null,
            "border": null,
            "bottom": null,
            "display": null,
            "flex": null,
            "flex_flow": null,
            "grid_area": null,
            "grid_auto_columns": null,
            "grid_auto_flow": null,
            "grid_auto_rows": null,
            "grid_column": null,
            "grid_gap": null,
            "grid_row": null,
            "grid_template_areas": null,
            "grid_template_columns": null,
            "grid_template_rows": null,
            "height": null,
            "justify_content": null,
            "justify_items": null,
            "left": null,
            "margin": null,
            "max_height": null,
            "max_width": null,
            "min_height": null,
            "min_width": null,
            "object_fit": null,
            "object_position": null,
            "order": null,
            "overflow": null,
            "overflow_x": null,
            "overflow_y": null,
            "padding": null,
            "right": null,
            "top": null,
            "visibility": null,
            "width": null
          }
        },
        "a69a2390876846cf96edf29da64ce6b4": {
          "model_module": "@jupyter-widgets/controls",
          "model_name": "ProgressStyleModel",
          "model_module_version": "1.5.0",
          "state": {
            "_model_module": "@jupyter-widgets/controls",
            "_model_module_version": "1.5.0",
            "_model_name": "ProgressStyleModel",
            "_view_count": null,
            "_view_module": "@jupyter-widgets/base",
            "_view_module_version": "1.2.0",
            "_view_name": "StyleView",
            "bar_color": null,
            "description_width": ""
          }
        },
        "3eb3953021aa4323ac7c9d8aa97ce77b": {
          "model_module": "@jupyter-widgets/base",
          "model_name": "LayoutModel",
          "model_module_version": "1.2.0",
          "state": {
            "_model_module": "@jupyter-widgets/base",
            "_model_module_version": "1.2.0",
            "_model_name": "LayoutModel",
            "_view_count": null,
            "_view_module": "@jupyter-widgets/base",
            "_view_module_version": "1.2.0",
            "_view_name": "LayoutView",
            "align_content": null,
            "align_items": null,
            "align_self": null,
            "border": null,
            "bottom": null,
            "display": null,
            "flex": null,
            "flex_flow": null,
            "grid_area": null,
            "grid_auto_columns": null,
            "grid_auto_flow": null,
            "grid_auto_rows": null,
            "grid_column": null,
            "grid_gap": null,
            "grid_row": null,
            "grid_template_areas": null,
            "grid_template_columns": null,
            "grid_template_rows": null,
            "height": null,
            "justify_content": null,
            "justify_items": null,
            "left": null,
            "margin": null,
            "max_height": null,
            "max_width": null,
            "min_height": null,
            "min_width": null,
            "object_fit": null,
            "object_position": null,
            "order": null,
            "overflow": null,
            "overflow_x": null,
            "overflow_y": null,
            "padding": null,
            "right": null,
            "top": null,
            "visibility": null,
            "width": null
          }
        },
        "28800ba300d3413b8482702e7819e7e1": {
          "model_module": "@jupyter-widgets/controls",
          "model_name": "DescriptionStyleModel",
          "model_module_version": "1.5.0",
          "state": {
            "_model_module": "@jupyter-widgets/controls",
            "_model_module_version": "1.5.0",
            "_model_name": "DescriptionStyleModel",
            "_view_count": null,
            "_view_module": "@jupyter-widgets/base",
            "_view_module_version": "1.2.0",
            "_view_name": "StyleView",
            "description_width": ""
          }
        }
      }
    }
  },
  "nbformat": 4,
  "nbformat_minor": 0
}